{
 "cells": [
  {
   "cell_type": "code",
   "execution_count": 1,
   "metadata": {},
   "outputs": [],
   "source": [
    "import pandas as pd"
   ]
  },
  {
   "cell_type": "code",
   "execution_count": 2,
   "metadata": {},
   "outputs": [
    {
     "data": {
      "text/html": [
       "<div>\n",
       "<style scoped>\n",
       "    .dataframe tbody tr th:only-of-type {\n",
       "        vertical-align: middle;\n",
       "    }\n",
       "\n",
       "    .dataframe tbody tr th {\n",
       "        vertical-align: top;\n",
       "    }\n",
       "\n",
       "    .dataframe thead th {\n",
       "        text-align: right;\n",
       "    }\n",
       "</style>\n",
       "<table border=\"1\" class=\"dataframe\">\n",
       "  <thead>\n",
       "    <tr style=\"text-align: right;\">\n",
       "      <th></th>\n",
       "      <th>essay_id</th>\n",
       "      <th>full_text</th>\n",
       "      <th>score</th>\n",
       "    </tr>\n",
       "  </thead>\n",
       "  <tbody>\n",
       "    <tr>\n",
       "      <th>0</th>\n",
       "      <td>000fe60</td>\n",
       "      <td>I am a scientist at NASA that is discussing th...</td>\n",
       "      <td>3</td>\n",
       "    </tr>\n",
       "    <tr>\n",
       "      <th>1</th>\n",
       "      <td>001ab80</td>\n",
       "      <td>People always wish they had the same technolog...</td>\n",
       "      <td>4</td>\n",
       "    </tr>\n",
       "    <tr>\n",
       "      <th>2</th>\n",
       "      <td>001bdc0</td>\n",
       "      <td>We all heard about Venus, the planet without a...</td>\n",
       "      <td>4</td>\n",
       "    </tr>\n",
       "    <tr>\n",
       "      <th>3</th>\n",
       "      <td>0033037</td>\n",
       "      <td>The posibilty of a face reconizing computer wo...</td>\n",
       "      <td>2</td>\n",
       "    </tr>\n",
       "    <tr>\n",
       "      <th>4</th>\n",
       "      <td>0065bd6</td>\n",
       "      <td>Driverless cars should not exsist it can cause...</td>\n",
       "      <td>3</td>\n",
       "    </tr>\n",
       "  </tbody>\n",
       "</table>\n",
       "</div>"
      ],
      "text/plain": [
       "  essay_id                                          full_text  score\n",
       "0  000fe60  I am a scientist at NASA that is discussing th...      3\n",
       "1  001ab80  People always wish they had the same technolog...      4\n",
       "2  001bdc0  We all heard about Venus, the planet without a...      4\n",
       "3  0033037  The posibilty of a face reconizing computer wo...      2\n",
       "4  0065bd6  Driverless cars should not exsist it can cause...      3"
      ]
     },
     "execution_count": 2,
     "metadata": {},
     "output_type": "execute_result"
    }
   ],
   "source": [
    "df = pd.read_csv(\"./4k_nooverlap.csv\")\n",
    "df.head()"
   ]
  },
  {
   "cell_type": "code",
   "execution_count": 3,
   "metadata": {},
   "outputs": [],
   "source": [
    "rubric = \"\"\"After reading an essay, assign a holistic score based on the rubric below. For the following evaluations you will need to use a grading scale between 1 (minimum) and 6(maximum). As with the analytical rating form, the distance between each grade (e.g., 1-2, 3-4, 4-5) should beconsidered equal.\n",
    "Score of 6 (Excellent): 1)Consistently shows strong understanding of the topic. 2)Excellent critical thinking and persuasive arguments. 3)Very well organized, clear flow of ideas. 4)Strong vocabulary, varied sentences, with no major errors.\n",
    "Score of 5 (Good): 1)Shows understanding of the topic. 2)Good critical thinking, with solid arguments. 3)Well organized with a mostly logical flow. 4)Good vocabulary and sentence structure with few errors.\n",
    "Score of 4 (Adequate): 1)Demonstrates basic understanding. 2)Some critical thinking, but arguments need strengthening. 3)Mostly organized, but could have better idea flow. 4)Decent vocabulary, sentences may lack variety, some errors present.\n",
    "Score of 3 (Needs Improvement): 1)Limited understanding of the topic. 2)Inconsistent critical thinking, weak arguments. 3)Needs better organization and smoother flow of ideas. 4)Weak vocabulary, may have sentence structure issues, several errors.\n",
    "Score of 2 (Poor): 1)Very limited understanding. 2)Minimal critical thinking, lacks strong arguments. 3)Poor organization and confusing flow of ideas. 4)Very simple vocabulary, incorrect word choices, serious sentence errors.\n",
    "Score of 1 (Unsatisfactory): 1)Fails to demonstrate understanding. 2)No clear point of view and very weak arguments. 3)Incoherent structure. 4)Extremely limited vocabulary, severe sentence structure problems, and major errors that make the essay hard to understand.\n",
    "The essay that should be scored is below:\n",
    "\"\"\""
   ]
  },
  {
   "cell_type": "code",
   "execution_count": 4,
   "metadata": {},
   "outputs": [],
   "source": [
    "def add_rubric(text):\n",
    "    return rubric + text"
   ]
  },
  {
   "cell_type": "code",
   "execution_count": 5,
   "metadata": {},
   "outputs": [],
   "source": [
    "df[\"full_text\"] = df[\"full_text\"].apply(add_rubric)"
   ]
  },
  {
   "cell_type": "code",
   "execution_count": 6,
   "metadata": {},
   "outputs": [
    {
     "data": {
      "text/plain": [
       "'After reading an essay, assign a holistic score based on the rubric below. For the following evaluations you will need to use a grading scale between 1 (minimum) and 6(maximum). As with the analytical rating form, the distance between each grade (e.g., 1-2, 3-4, 4-5) should beconsidered equal.\\nScore of 6 (Excellent): 1)Consistently shows strong understanding of the topic. 2)Excellent critical thinking and persuasive arguments. 3)Very well organized, clear flow of ideas. 4)Strong vocabulary, varied sentences, with no major errors.\\nScore of 5 (Good): 1)Shows understanding of the topic. 2)Good critical thinking, with solid arguments. 3)Well organized with a mostly logical flow. 4)Good vocabulary and sentence structure with few errors.\\nScore of 4 (Adequate): 1)Demonstrates basic understanding. 2)Some critical thinking, but arguments need strengthening. 3)Mostly organized, but could have better idea flow. 4)Decent vocabulary, sentences may lack variety, some errors present.\\nScore of 3 (Needs Improvement): 1)Limited understanding of the topic. 2)Inconsistent critical thinking, weak arguments. 3)Needs better organization and smoother flow of ideas. 4)Weak vocabulary, may have sentence structure issues, several errors.\\nScore of 2 (Poor): 1)Very limited understanding. 2)Minimal critical thinking, lacks strong arguments. 3)Poor organization and confusing flow of ideas. 4)Very simple vocabulary, incorrect word choices, serious sentence errors.\\nScore of 1 (Unsatisfactory): 1)Fails to demonstrate understanding. 2)No clear point of view and very weak arguments. 3)Incoherent structure. 4)Extremely limited vocabulary, severe sentence structure problems, and major errors that make the essay hard to understand.\\nThe essay that should be scored is below:\\nI am a scientist at NASA that is discussing the \"face\" on mars. I will be explaining how the \"face\" is a land form. By sharing my information about this isue i will tell you just that.\\n\\nFirst off, how could it be a martions drawing. There is no plant life on mars as of rite now that we know of, which means so far as we know it is not possible for any type of life. That explains how it could not be made by martians. Also why and how would a martion build a face so big. It just does not make any since that a martian did this.\\n\\nNext, why it is a landform. There are many landforms that are weird here in America, and there is also landforms all around the whole Earth. Many of them look like something we can relate to like a snake a turtle a human... So if there are landforms on earth dont you think landforms are on mars to? Of course! why not? It\\'s just unique that the landform on Mars looks like a human face. Also if there was martians and they were trying to get our attention dont you think we would have saw one by now?\\n\\nFinaly, why you should listen to me. You should listen to me because i am a member of NASA and i\\'ve been dealing with all of this stuff that were talking about and people who say martians did this have no relation with NASA and have never worked with anything to relate to this landform. One last thing is that everyone working at NASA says the same thing i say, that the \"face\" is just a landform.\\n\\nTo sum all this up the \"face\" on mars is a landform but others would like to beleive it\\'s a martian sculpture. Which every one that works at NASA says it\\'s a landform and they are all the ones working on the planet and taking pictures.'"
      ]
     },
     "execution_count": 6,
     "metadata": {},
     "output_type": "execute_result"
    }
   ],
   "source": [
    "df[\"full_text\"][0]"
   ]
  },
  {
   "cell_type": "code",
   "execution_count": 7,
   "metadata": {},
   "outputs": [],
   "source": [
    "df.to_csv(\"4k_nooverlap_rubric.csv\")"
   ]
  },
  {
   "cell_type": "code",
   "execution_count": 8,
   "metadata": {},
   "outputs": [],
   "source": [
    "df = pd.read_csv(\"./13k_overlap.csv\")\n",
    "df[\"full_text\"] = df[\"full_text\"].apply(add_rubric)\n",
    "df.to_csv(\"13k_overlap_rubric.csv\")"
   ]
  },
  {
   "cell_type": "code",
   "execution_count": 9,
   "metadata": {},
   "outputs": [],
   "source": [
    "df = pd.read_csv(\"./19k_same_distribution.csv\")\n",
    "df[\"full_text\"] = df[\"full_text\"].apply(add_rubric)\n",
    "df.to_csv(\"19k_same_distribution_rubric.csv\")"
   ]
  },
  {
   "cell_type": "code",
   "execution_count": 10,
   "metadata": {},
   "outputs": [],
   "source": [
    "df = pd.read_csv(\"./df_14k_same_distribution_4k.csv\")\n",
    "df[\"full_text\"] = df[\"full_text\"].apply(add_rubric)\n",
    "df.to_csv(\"df_14k_same_distribution_4k_rubric.csv\")"
   ]
  },
  {
   "cell_type": "code",
   "execution_count": 11,
   "metadata": {},
   "outputs": [],
   "source": [
    "df = pd.read_csv(\"./train.csv\")\n",
    "df[\"full_text\"] = df[\"full_text\"].apply(add_rubric)\n",
    "df.to_csv(\"train_rubric.csv\")"
   ]
  },
  {
   "cell_type": "code",
   "execution_count": 12,
   "metadata": {},
   "outputs": [],
   "source": [
    "df = pd.read_csv(\"./test.csv\")\n",
    "df[\"full_text\"] = df[\"full_text\"].apply(add_rubric)\n",
    "df.to_csv(\"test_rubric.csv\")"
   ]
  },
  {
   "cell_type": "code",
   "execution_count": 13,
   "metadata": {},
   "outputs": [],
   "source": [
    "df = pd.read_csv(\"./persuade_only.csv\")\n",
    "df[\"full_text\"] = df[\"full_text\"].apply(add_rubric)\n",
    "df.to_csv(\"persuade_only_rubric.csv\")"
   ]
  },
  {
   "cell_type": "code",
   "execution_count": 14,
   "metadata": {},
   "outputs": [],
   "source": [
    "df = pd.read_csv(\"./30k_train.csv\")\n",
    "df[\"full_text\"] = df[\"full_text\"].apply(add_rubric)\n",
    "df.to_csv(\"30k_train_rubric.csv\")"
   ]
  }
 ],
 "metadata": {
  "kernelspec": {
   "display_name": "base",
   "language": "python",
   "name": "python3"
  },
  "language_info": {
   "codemirror_mode": {
    "name": "ipython",
    "version": 3
   },
   "file_extension": ".py",
   "mimetype": "text/x-python",
   "name": "python",
   "nbconvert_exporter": "python",
   "pygments_lexer": "ipython3",
   "version": "3.10.9"
  }
 },
 "nbformat": 4,
 "nbformat_minor": 2
}

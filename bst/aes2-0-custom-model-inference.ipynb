{
 "cells": [
  {
   "cell_type": "code",
   "execution_count": 1,
   "id": "999239b2",
   "metadata": {
    "_cell_guid": "b1076dfc-b9ad-4769-8c92-a6c4dae69d19",
    "_uuid": "8f2839f25d086af736a60e9eeb907d3b93b6e0e5",
    "execution": {
     "iopub.execute_input": "2024-05-04T07:14:46.846780Z",
     "iopub.status.busy": "2024-05-04T07:14:46.846434Z",
     "iopub.status.idle": "2024-05-04T07:14:47.707243Z",
     "shell.execute_reply": "2024-05-04T07:14:47.706297Z"
    },
    "papermill": {
     "duration": 0.869021,
     "end_time": "2024-05-04T07:14:47.709808",
     "exception": false,
     "start_time": "2024-05-04T07:14:46.840787",
     "status": "completed"
    },
    "tags": []
   },
   "outputs": [
    {
     "name": "stdout",
     "output_type": "stream",
     "text": [
      "/kaggle/input/aes2-0-self-train-model/checkpoint-2000/checkpoint-2000/model-2000.pth\n",
      "/kaggle/input/aes2-0-self-train-model/checkpoint-1700/checkpoint-1700/model-1700.pth\n",
      "/kaggle/input/learning-agency-lab-automated-essay-scoring-2/sample_submission.csv\n",
      "/kaggle/input/learning-agency-lab-automated-essay-scoring-2/train.csv\n",
      "/kaggle/input/learning-agency-lab-automated-essay-scoring-2/test.csv\n",
      "/kaggle/input/deberta-v3-large/spm.model\n",
      "/kaggle/input/deberta-v3-large/config.json\n",
      "/kaggle/input/deberta-v3-large/pytorch_model.generator.bin\n",
      "/kaggle/input/deberta-v3-large/README.md\n",
      "/kaggle/input/deberta-v3-large/tf_model.h5\n",
      "/kaggle/input/deberta-v3-large/tokenizer_config.json\n",
      "/kaggle/input/deberta-v3-large/gitattributes\n",
      "/kaggle/input/deberta-v3-large/pytorch_model.bin\n",
      "/kaggle/input/deberta-v3-large/generator_config.json\n"
     ]
    }
   ],
   "source": [
    "# This Python 3 environment comes with many helpful analytics libraries installed\n",
    "# It is defined by the kaggle/python Docker image: https://github.com/kaggle/docker-python\n",
    "# For example, here's several helpful packages to load\n",
    "\n",
    "import numpy as np # linear algebra\n",
    "import pandas as pd # data processing, CSV file I/O (e.g. pd.read_csv)\n",
    "\n",
    "# Input data files are available in the read-only \"../input/\" directory\n",
    "# For example, running this (by clicking run or pressing Shift+Enter) will list all files under the input directory\n",
    "\n",
    "import os\n",
    "for dirname, _, filenames in os.walk('/kaggle/input'):\n",
    "    for filename in filenames:\n",
    "        print(os.path.join(dirname, filename))\n",
    "\n",
    "# You can write up to 20GB to the current directory (/kaggle/working/) that gets preserved as output when you create a version using \"Save & Run All\" \n",
    "# You can also write temporary files to /kaggle/temp/, but they won't be saved outside of the current session"
   ]
  },
  {
   "cell_type": "code",
   "execution_count": 1,
   "id": "2b800da9",
   "metadata": {
    "execution": {
     "iopub.execute_input": "2024-05-04T07:14:47.719545Z",
     "iopub.status.busy": "2024-05-04T07:14:47.718698Z",
     "iopub.status.idle": "2024-05-04T07:15:08.661633Z",
     "shell.execute_reply": "2024-05-04T07:15:08.660812Z"
    },
    "papermill": {
     "duration": 20.950145,
     "end_time": "2024-05-04T07:15:08.664069",
     "exception": false,
     "start_time": "2024-05-04T07:14:47.713924",
     "status": "completed"
    },
    "tags": []
   },
   "outputs": [
    {
     "name": "stderr",
     "output_type": "stream",
     "text": [
      "/ai/anaconda3/envs/bst/lib/python3.8/site-packages/tqdm/auto.py:21: TqdmWarning: IProgress not found. Please update jupyter and ipywidgets. See https://ipywidgets.readthedocs.io/en/stable/user_install.html\n",
      "  from .autonotebook import tqdm as notebook_tqdm\n",
      "2024-05-05 15:38:45.012257: I tensorflow/core/platform/cpu_feature_guard.cc:193] This TensorFlow binary is optimized with oneAPI Deep Neural Network Library (oneDNN) to use the following CPU instructions in performance-critical operations:  AVX2 FMA\n",
      "To enable them in other operations, rebuild TensorFlow with the appropriate compiler flags.\n",
      "2024-05-05 15:38:45.224121: E tensorflow/stream_executor/cuda/cuda_blas.cc:2981] Unable to register cuBLAS factory: Attempting to register factory for plugin cuBLAS when one has already been registered\n",
      "2024-05-05 15:38:46.149988: W tensorflow/stream_executor/platform/default/dso_loader.cc:64] Could not load dynamic library 'libnvinfer.so.7'; dlerror: libnvinfer.so.7: cannot open shared object file: No such file or directory\n",
      "2024-05-05 15:38:46.150129: W tensorflow/stream_executor/platform/default/dso_loader.cc:64] Could not load dynamic library 'libnvinfer_plugin.so.7'; dlerror: libnvinfer_plugin.so.7: cannot open shared object file: No such file or directory\n",
      "2024-05-05 15:38:46.150144: W tensorflow/compiler/tf2tensorrt/utils/py_utils.cc:38] TF-TRT Warning: Cannot dlopen some TensorRT libraries. If you would like to use Nvidia GPU with TensorRT, please make sure the missing libraries mentioned above are installed properly.\n"
     ]
    }
   ],
   "source": [
    "from transformers.modeling_outputs import SequenceClassifierOutputWithPast\n",
    "from transformers import (\n",
    "    AutoModelForSequenceClassification,\n",
    "    AutoModel,\n",
    "    AutoConfig,\n",
    "    AutoTokenizer,\n",
    "    Trainer,\n",
    "    TrainingArguments,\n",
    "    AdamW,\n",
    "    get_polynomial_decay_schedule_with_warmup\n",
    ")\n",
    "from tqdm import tqdm\n",
    "import torch.nn as nn\n",
    "import torch"
   ]
  },
  {
   "cell_type": "code",
   "execution_count": 2,
   "id": "01d3c60d",
   "metadata": {
    "execution": {
     "iopub.execute_input": "2024-05-04T07:15:08.674111Z",
     "iopub.status.busy": "2024-05-04T07:15:08.672866Z",
     "iopub.status.idle": "2024-05-04T07:15:08.679063Z",
     "shell.execute_reply": "2024-05-04T07:15:08.678256Z"
    },
    "papermill": {
     "duration": 0.01294,
     "end_time": "2024-05-04T07:15:08.680867",
     "exception": false,
     "start_time": "2024-05-04T07:15:08.667927",
     "status": "completed"
    },
    "tags": []
   },
   "outputs": [],
   "source": [
    "def get_last_hidden_state(backbone_outputs):\n",
    "    last_hidden_state = backbone_outputs[0]\n",
    "    return last_hidden_state\n",
    "\n",
    "\n",
    "def get_all_hidden_states(backbone_outputs):\n",
    "    all_hidden_states = torch.stack(backbone_outputs[1])\n",
    "    return all_hidden_states\n",
    "\n",
    "\n",
    "def get_input_ids(inputs):\n",
    "    return inputs[\"input_ids\"]\n",
    "\n",
    "\n",
    "def get_attention_mask(inputs):\n",
    "    return inputs[\"attention_mask\"]"
   ]
  },
  {
   "cell_type": "code",
   "execution_count": 4,
   "id": "a2ec88ce",
   "metadata": {
    "execution": {
     "iopub.execute_input": "2024-05-04T07:15:08.688923Z",
     "iopub.status.busy": "2024-05-04T07:15:08.688651Z",
     "iopub.status.idle": "2024-05-04T07:15:20.817187Z",
     "shell.execute_reply": "2024-05-04T07:15:20.816081Z"
    },
    "papermill": {
     "duration": 12.135229,
     "end_time": "2024-05-04T07:15:20.819553",
     "exception": false,
     "start_time": "2024-05-04T07:15:08.684324",
     "status": "completed"
    },
    "tags": []
   },
   "outputs": [
    {
     "name": "stderr",
     "output_type": "stream",
     "text": [
      "/opt/conda/lib/python3.10/site-packages/transformers/convert_slow_tokenizer.py:550: UserWarning: The sentencepiece tokenizer that you are converting to a fast tokenizer uses the byte fallback option which is not implemented in the fast tokenizers. In practice this means that the fast version of the tokenizer can produce unknown tokens whereas the sentencepiece version would have converted these unknown tokens into a sequence of byte tokens matching the original piece of text.\n",
      "  warnings.warn(\n"
     ]
    },
    {
     "name": "stdout",
     "output_type": "stream",
     "text": [
      "128002\n"
     ]
    },
    {
     "name": "stderr",
     "output_type": "stream",
     "text": [
      "/opt/conda/lib/python3.10/site-packages/torch/_utils.py:831: UserWarning: TypedStorage is deprecated. It will be removed in the future and UntypedStorage will be the only storage class. This should only matter to you if you are using storages directly.  To access UntypedStorage directly, use tensor.untyped_storage() instead of tensor.storage()\n",
      "  return self.fget.__get__(instance, owner)()\n"
     ]
    },
    {
     "name": "stdout",
     "output_type": "stream",
     "text": [
      "CustomModel(\n",
      "  (backbone): DebertaV2Model(\n",
      "    (embeddings): DebertaV2Embeddings(\n",
      "      (word_embeddings): Embedding(128002, 1024)\n",
      "      (LayerNorm): LayerNorm((1024,), eps=1e-07, elementwise_affine=True)\n",
      "      (dropout): StableDropout()\n",
      "    )\n",
      "    (encoder): DebertaV2Encoder(\n",
      "      (layer): ModuleList(\n",
      "        (0-23): 24 x DebertaV2Layer(\n",
      "          (attention): DebertaV2Attention(\n",
      "            (self): DisentangledSelfAttention(\n",
      "              (query_proj): Linear(in_features=1024, out_features=1024, bias=True)\n",
      "              (key_proj): Linear(in_features=1024, out_features=1024, bias=True)\n",
      "              (value_proj): Linear(in_features=1024, out_features=1024, bias=True)\n",
      "              (pos_dropout): StableDropout()\n",
      "              (dropout): StableDropout()\n",
      "            )\n",
      "            (output): DebertaV2SelfOutput(\n",
      "              (dense): Linear(in_features=1024, out_features=1024, bias=True)\n",
      "              (LayerNorm): LayerNorm((1024,), eps=1e-07, elementwise_affine=True)\n",
      "              (dropout): StableDropout()\n",
      "            )\n",
      "          )\n",
      "          (intermediate): DebertaV2Intermediate(\n",
      "            (dense): Linear(in_features=1024, out_features=4096, bias=True)\n",
      "            (intermediate_act_fn): GELUActivation()\n",
      "          )\n",
      "          (output): DebertaV2Output(\n",
      "            (dense): Linear(in_features=4096, out_features=1024, bias=True)\n",
      "            (LayerNorm): LayerNorm((1024,), eps=1e-07, elementwise_affine=True)\n",
      "            (dropout): StableDropout()\n",
      "          )\n",
      "        )\n",
      "      )\n",
      "      (rel_embeddings): Embedding(512, 1024)\n",
      "      (LayerNorm): LayerNorm((1024,), eps=1e-07, elementwise_affine=True)\n",
      "    )\n",
      "  )\n",
      "  (pool): MeanPooling()\n",
      "  (fc): Linear(in_features=1024, out_features=1, bias=True)\n",
      ")\n"
     ]
    }
   ],
   "source": [
    "class MeanPooling(nn.Module):\n",
    "    def __init__(self):\n",
    "        super(MeanPooling, self).__init__()\n",
    "        self.output_dim = AutoConfig.from_pretrained(\"/kaggle/input/deberta-v3-large\").hidden_size\n",
    "\n",
    "    def forward(self, inputs, backbone_outputs):\n",
    "        attention_mask = get_attention_mask(inputs)\n",
    "        last_hidden_state = get_last_hidden_state(backbone_outputs)\n",
    "\n",
    "        input_mask_expanded = attention_mask.unsqueeze(-1).expand(last_hidden_state.size()).float()\n",
    "        sum_embeddings = torch.sum(last_hidden_state * input_mask_expanded, 1)\n",
    "        sum_mask = input_mask_expanded.sum(1)\n",
    "        sum_mask = torch.clamp(sum_mask, min=1e-9)\n",
    "        mean_embeddings = sum_embeddings / sum_mask\n",
    "        return mean_embeddings\n",
    "\n",
    "class CustomModel(nn.Module):\n",
    "    def __init__(self, tokenizer):\n",
    "        super().__init__()\n",
    "        self.backbone = AutoModel.from_pretrained(\"/kaggle/input/deberta-v3-large\")\n",
    "        self.backbone.resize_token_embeddings(len(tokenizer))\n",
    "        self.pool = MeanPooling()\n",
    "        self.fc = nn.Linear(self.pool.output_dim, 1)\n",
    "\n",
    "    def forward(self, inputs):\n",
    "        outputs = self.backbone(**inputs)\n",
    "        feature = self.pool(inputs, outputs)\n",
    "        output = self.fc(feature)\n",
    "\n",
    "        return SequenceClassifierOutputWithPast(\n",
    "            loss=None,\n",
    "            logits=output,\n",
    "            past_key_values=None,\n",
    "            hidden_states=None,\n",
    "            attentions=None\n",
    "        )\n",
    "    \n",
    "tokenizer = AutoTokenizer.from_pretrained(\"/kaggle/input/deberta-v3-large\")\n",
    "tokenizer.add_special_tokens(\n",
    "    {\"additional_special_tokens\": [\"[PARAGRAPH]\"]}\n",
    ")\n",
    "print(len(tokenizer))\n",
    "model = CustomModel(tokenizer=tokenizer)\n",
    "print(model)"
   ]
  },
  {
   "cell_type": "code",
   "execution_count": 5,
   "id": "89f59d95",
   "metadata": {
    "execution": {
     "iopub.execute_input": "2024-05-04T07:15:20.829432Z",
     "iopub.status.busy": "2024-05-04T07:15:20.829082Z",
     "iopub.status.idle": "2024-05-04T07:15:33.923789Z",
     "shell.execute_reply": "2024-05-04T07:15:33.922944Z"
    },
    "papermill": {
     "duration": 13.102389,
     "end_time": "2024-05-04T07:15:33.926306",
     "exception": false,
     "start_time": "2024-05-04T07:15:20.823917",
     "status": "completed"
    },
    "tags": []
   },
   "outputs": [],
   "source": [
    "model.load_state_dict(torch.load(\"/kaggle/input/aes2-0-self-train-model/checkpoint-2000/checkpoint-2000/model-2000.pth\"))\n",
    "model = model.to(\"cuda\")"
   ]
  },
  {
   "cell_type": "code",
   "execution_count": 6,
   "id": "1b9a2dd0",
   "metadata": {
    "execution": {
     "iopub.execute_input": "2024-05-04T07:15:33.936315Z",
     "iopub.status.busy": "2024-05-04T07:15:33.935568Z",
     "iopub.status.idle": "2024-05-04T07:15:33.959469Z",
     "shell.execute_reply": "2024-05-04T07:15:33.958477Z"
    },
    "papermill": {
     "duration": 0.03121,
     "end_time": "2024-05-04T07:15:33.961830",
     "exception": false,
     "start_time": "2024-05-04T07:15:33.930620",
     "status": "completed"
    },
    "tags": []
   },
   "outputs": [],
   "source": [
    "df = pd.read_csv(\"/kaggle/input/learning-agency-lab-automated-essay-scoring-2/test.csv\")\n",
    "df[\"full_text\"] = df[\"full_text\"].str.replace(r'\\n\\n', \"[PARAGRAPH]\", regex=True)"
   ]
  },
  {
   "cell_type": "code",
   "execution_count": 7,
   "id": "6d693e4c",
   "metadata": {
    "execution": {
     "iopub.execute_input": "2024-05-04T07:15:33.971638Z",
     "iopub.status.busy": "2024-05-04T07:15:33.971326Z",
     "iopub.status.idle": "2024-05-04T07:15:38.000318Z",
     "shell.execute_reply": "2024-05-04T07:15:37.998949Z"
    },
    "papermill": {
     "duration": 4.037233,
     "end_time": "2024-05-04T07:15:38.003682",
     "exception": false,
     "start_time": "2024-05-04T07:15:33.966449",
     "status": "completed"
    },
    "tags": []
   },
   "outputs": [
    {
     "name": "stderr",
     "output_type": "stream",
     "text": [
      " 33%|███▎      | 1/3 [00:02<00:04,  2.09s/it]"
     ]
    },
    {
     "name": "stdout",
     "output_type": "stream",
     "text": [
      "2\n"
     ]
    },
    {
     "name": "stderr",
     "output_type": "stream",
     "text": [
      " 67%|██████▋   | 2/3 [00:03<00:01,  1.42s/it]"
     ]
    },
    {
     "name": "stdout",
     "output_type": "stream",
     "text": [
      "3\n"
     ]
    },
    {
     "name": "stderr",
     "output_type": "stream",
     "text": [
      "100%|██████████| 3/3 [00:04<00:00,  1.34s/it]"
     ]
    },
    {
     "name": "stdout",
     "output_type": "stream",
     "text": [
      "5\n"
     ]
    },
    {
     "name": "stderr",
     "output_type": "stream",
     "text": [
      "\n"
     ]
    }
   ],
   "source": [
    "model.eval()\n",
    "predictions = []\n",
    "\n",
    "for idx, row in tqdm(df.iterrows(), total=len(df)):\n",
    "    text = row[\"full_text\"]\n",
    "    encoded_input = tokenizer(text, max_length=1800, truncation=True, padding=\"max_length\", return_tensors=\"pt\")\n",
    "    encoded_input = encoded_input.to(\"cuda\")\n",
    "    prediction = round(np.clip(model(encoded_input).logits.cpu().detach().numpy().tolist()[0][0], 1, 6))\n",
    "    print(prediction)\n",
    "    predictions.append(prediction)"
   ]
  },
  {
   "cell_type": "code",
   "execution_count": 8,
   "id": "17ce1252",
   "metadata": {
    "execution": {
     "iopub.execute_input": "2024-05-04T07:15:38.014903Z",
     "iopub.status.busy": "2024-05-04T07:15:38.014608Z",
     "iopub.status.idle": "2024-05-04T07:15:38.033304Z",
     "shell.execute_reply": "2024-05-04T07:15:38.032393Z"
    },
    "papermill": {
     "duration": 0.026527,
     "end_time": "2024-05-04T07:15:38.035325",
     "exception": false,
     "start_time": "2024-05-04T07:15:38.008798",
     "status": "completed"
    },
    "tags": []
   },
   "outputs": [
    {
     "data": {
      "text/html": [
       "<div>\n",
       "<style scoped>\n",
       "    .dataframe tbody tr th:only-of-type {\n",
       "        vertical-align: middle;\n",
       "    }\n",
       "\n",
       "    .dataframe tbody tr th {\n",
       "        vertical-align: top;\n",
       "    }\n",
       "\n",
       "    .dataframe thead th {\n",
       "        text-align: right;\n",
       "    }\n",
       "</style>\n",
       "<table border=\"1\" class=\"dataframe\">\n",
       "  <thead>\n",
       "    <tr style=\"text-align: right;\">\n",
       "      <th></th>\n",
       "      <th>essay_id</th>\n",
       "      <th>score</th>\n",
       "    </tr>\n",
       "  </thead>\n",
       "  <tbody>\n",
       "    <tr>\n",
       "      <th>0</th>\n",
       "      <td>000d118</td>\n",
       "      <td>3</td>\n",
       "    </tr>\n",
       "    <tr>\n",
       "      <th>1</th>\n",
       "      <td>000fe60</td>\n",
       "      <td>3</td>\n",
       "    </tr>\n",
       "    <tr>\n",
       "      <th>2</th>\n",
       "      <td>001ab80</td>\n",
       "      <td>4</td>\n",
       "    </tr>\n",
       "  </tbody>\n",
       "</table>\n",
       "</div>"
      ],
      "text/plain": [
       "  essay_id  score\n",
       "0  000d118      3\n",
       "1  000fe60      3\n",
       "2  001ab80      4"
      ]
     },
     "execution_count": 8,
     "metadata": {},
     "output_type": "execute_result"
    }
   ],
   "source": [
    "submission = pd.read_csv(\"/kaggle/input/learning-agency-lab-automated-essay-scoring-2/sample_submission.csv\")\n",
    "submission"
   ]
  },
  {
   "cell_type": "code",
   "execution_count": 9,
   "id": "3fee5dbe",
   "metadata": {
    "execution": {
     "iopub.execute_input": "2024-05-04T07:15:38.046125Z",
     "iopub.status.busy": "2024-05-04T07:15:38.045866Z",
     "iopub.status.idle": "2024-05-04T07:15:38.053379Z",
     "shell.execute_reply": "2024-05-04T07:15:38.052703Z"
    },
    "papermill": {
     "duration": 0.015146,
     "end_time": "2024-05-04T07:15:38.055268",
     "exception": false,
     "start_time": "2024-05-04T07:15:38.040122",
     "status": "completed"
    },
    "tags": []
   },
   "outputs": [],
   "source": [
    "submission[\"score\"] = predictions\n",
    "submission.to_csv(\"submission.csv\", index=False)"
   ]
  }
 ],
 "metadata": {
  "kaggle": {
   "accelerator": "nvidiaTeslaT4",
   "dataSources": [
    {
     "databundleVersionId": 8059942,
     "sourceId": 71485,
     "sourceType": "competition"
    },
    {
     "datasetId": 4920921,
     "sourceId": 8285203,
     "sourceType": "datasetVersion"
    },
    {
     "datasetId": 4935475,
     "sourceId": 8309174,
     "sourceType": "datasetVersion"
    }
   ],
   "dockerImageVersionId": 30699,
   "isGpuEnabled": true,
   "isInternetEnabled": false,
   "language": "python",
   "sourceType": "notebook"
  },
  "kernelspec": {
   "display_name": "Python 3",
   "language": "python",
   "name": "python3"
  },
  "language_info": {
   "codemirror_mode": {
    "name": "ipython",
    "version": 3
   },
   "file_extension": ".py",
   "mimetype": "text/x-python",
   "name": "python",
   "nbconvert_exporter": "python",
   "pygments_lexer": "ipython3",
   "version": "3.8.8"
  },
  "papermill": {
   "default_parameters": {},
   "duration": 57.421241,
   "end_time": "2024-05-04T07:15:41.146749",
   "environment_variables": {},
   "exception": null,
   "input_path": "__notebook__.ipynb",
   "output_path": "__notebook__.ipynb",
   "parameters": {},
   "start_time": "2024-05-04T07:14:43.725508",
   "version": "2.5.0"
  }
 },
 "nbformat": 4,
 "nbformat_minor": 5
}
